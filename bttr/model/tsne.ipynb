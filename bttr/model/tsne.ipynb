{
 "cells": [
  {
   "cell_type": "code",
   "execution_count": null,
   "metadata": {},
   "outputs": [
    {
     "ename": "ModuleNotFoundError",
     "evalue": "No module named 'bttr.utils'; 'bttr' is not a package",
     "output_type": "error",
     "traceback": [
      "\u001b[1;31m---------------------------------------------------------------------------\u001b[0m",
      "\u001b[1;31mModuleNotFoundError\u001b[0m                       Traceback (most recent call last)",
      "Cell \u001b[1;32mIn[2], line 9\u001b[0m\n\u001b[0;32m      5\u001b[0m \u001b[38;5;28;01mfrom\u001b[39;00m\u001b[38;5;250m \u001b[39m\u001b[38;5;21;01mmpl_toolkits\u001b[39;00m\u001b[38;5;21;01m.\u001b[39;00m\u001b[38;5;21;01mmplot3d\u001b[39;00m\u001b[38;5;250m \u001b[39m\u001b[38;5;28;01mimport\u001b[39;00m Axes3D\n\u001b[0;32m      7\u001b[0m \u001b[38;5;28;01mfrom\u001b[39;00m\u001b[38;5;250m \u001b[39m\u001b[38;5;21;01mpytorch_lightning\u001b[39;00m\u001b[38;5;250m \u001b[39m\u001b[38;5;28;01mimport\u001b[39;00m Trainer\n\u001b[1;32m----> 9\u001b[0m \u001b[38;5;28;01mfrom\u001b[39;00m\u001b[38;5;250m \u001b[39m\u001b[38;5;21;01mbttr\u001b[39;00m\u001b[38;5;21;01m.\u001b[39;00m\u001b[38;5;21;01mdatamodule\u001b[39;00m\u001b[38;5;250m \u001b[39m\u001b[38;5;28;01mimport\u001b[39;00m CROHMEDatamodule\n\u001b[0;32m     10\u001b[0m \u001b[38;5;28;01mfrom\u001b[39;00m\u001b[38;5;250m \u001b[39m\u001b[38;5;21;01mbttr\u001b[39;00m\u001b[38;5;21;01m.\u001b[39;00m\u001b[38;5;21;01mlit_bttr\u001b[39;00m\u001b[38;5;250m \u001b[39m\u001b[38;5;28;01mimport\u001b[39;00m LitBTTR\n\u001b[0;32m     12\u001b[0m test_year \u001b[38;5;241m=\u001b[39m \u001b[38;5;124m\"\u001b[39m\u001b[38;5;124m2014\u001b[39m\u001b[38;5;124m\"\u001b[39m\n",
      "File \u001b[1;32md:\\sophomore year\\session 3\\stat302\\final project\\code\\BTTR\\bttr\\model\\bttr.py:7\u001b[0m\n\u001b[0;32m      4\u001b[0m \u001b[38;5;28;01mimport\u001b[39;00m\u001b[38;5;250m \u001b[39m\u001b[38;5;21;01mtorch\u001b[39;00m\n\u001b[0;32m      5\u001b[0m \u001b[38;5;28;01mfrom\u001b[39;00m\u001b[38;5;250m \u001b[39m\u001b[38;5;21;01mtorch\u001b[39;00m\u001b[38;5;250m \u001b[39m\u001b[38;5;28;01mimport\u001b[39;00m FloatTensor, LongTensor\n\u001b[1;32m----> 7\u001b[0m \u001b[38;5;28;01mfrom\u001b[39;00m\u001b[38;5;250m \u001b[39m\u001b[38;5;21;01mbttr\u001b[39;00m\u001b[38;5;21;01m.\u001b[39;00m\u001b[38;5;21;01mutils\u001b[39;00m\u001b[38;5;250m \u001b[39m\u001b[38;5;28;01mimport\u001b[39;00m Hypothesis\n\u001b[0;32m      8\u001b[0m \u001b[38;5;66;03m#from utils import Hypothesis\u001b[39;00m\n\u001b[0;32m     10\u001b[0m \u001b[38;5;28;01mfrom\u001b[39;00m\u001b[38;5;250m \u001b[39m\u001b[38;5;21;01m.\u001b[39;00m\u001b[38;5;21;01mdecoder\u001b[39;00m\u001b[38;5;250m \u001b[39m\u001b[38;5;28;01mimport\u001b[39;00m Decoder\n",
      "\u001b[1;31mModuleNotFoundError\u001b[0m: No module named 'bttr.utils'; 'bttr' is not a package"
     ]
    }
   ],
   "source": [
    "import torch\n",
    "from sklearn.manifold import TSNE\n",
    "import numpy as np\n",
    "import matplotlib.pyplot as plt\n",
    "from mpl_toolkits.mplot3d import Axes3D\n",
    "\n",
    "from pytorch_lightning import Trainer\n",
    "\n",
    "from bttr.datamodule import CROHMEDatamodule\n",
    "from bttr.lit_bttr import LitBTTR\n",
    "\n",
    "test_year = \"2014\"\n",
    "ckp_path = \"lightning_logs/Attempt0Part1/checkpoints/epoch=27-step=42028-val_ExpRate=0.2162.ckpt\"\n",
    "\n",
    "if __name__ == \"__main__\":\n",
    "    trainer = Trainer(logger=False, num_nodes=1, devices=[0])\n",
    "\n",
    "    dm = CROHMEDatamodule(test_year=test_year)\n",
    "\n",
    "    model = LitBTTR.load_from_checkpoint(ckp_path)\n",
    "\n",
    "    # 假设你有一些输入数据\n",
    "    # 这里生成一些随机数据作为示例，实际使用时需要替换为真实数据\n",
    "    batch_size = 16\n",
    "    img = torch.randn(batch_size, 1, 32, 32)  # [b, 1, h, w]\n",
    "    img_mask = torch.ones(batch_size, 32, 32, dtype=torch.long)  # [b, h, w]\n",
    "    tgt = torch.randint(0, 100, (2 * batch_size, 10))  # [2b, l]\n",
    "\n",
    "    # 获取模型的输出\n",
    "    with torch.no_grad():\n",
    "        model.eval()\n",
    "        output = model(img, img_mask, tgt)  # [2b, l, vocab_size]\n",
    "\n",
    "    # 提取特征，这里假设我们只取最后一个时间步的特征\n",
    "    features = output[:, -1, :].cpu().numpy()\n",
    "\n",
    "    # 使用TSNE进行降维，将n_components设置为3以降到三维\n",
    "    tsne = TSNE(n_components=3, random_state=42)\n",
    "    features_tsne = tsne.fit_transform(features)\n",
    "\n",
    "    # 可视化\n",
    "    fig = plt.figure(figsize=(10, 10))\n",
    "    ax = fig.add_subplot(111, projection='3d')\n",
    "    ax.scatter(features_tsne[:, 0], features_tsne[:, 1])\n",
    "    ax.set_title('TSNE Visualization of BTTR Model Output Features in 3D')\n",
    "    ax.set_xlabel('TSNE Dimension 1')\n",
    "    ax.set_ylabel('TSNE Dimension 2')\n",
    "    plt.show()\n",
    "\n",
    "#model = BTTR(\n",
    "#    d_model=512,\n",
    "#    growth_rate=32,\n",
    "#    num_layers=4,\n",
    "#    nhead=8,\n",
    "#    num_decoder_layers=4,\n",
    "#    dim_feedforward=2048,\n",
    "#    dropout=0.1\n",
    "#)\n",
    "\n"
   ]
  },
  {
   "cell_type": "code",
   "execution_count": 4,
   "metadata": {},
   "outputs": [
    {
     "ename": "ModuleNotFoundError",
     "evalue": "No module named 'bttr.utils'; 'bttr' is not a package",
     "output_type": "error",
     "traceback": [
      "\u001b[1;31m---------------------------------------------------------------------------\u001b[0m",
      "\u001b[1;31mModuleNotFoundError\u001b[0m                       Traceback (most recent call last)",
      "Cell \u001b[1;32mIn[4], line 3\u001b[0m\n\u001b[0;32m      1\u001b[0m \u001b[38;5;28;01mfrom\u001b[39;00m\u001b[38;5;250m \u001b[39m\u001b[38;5;21;01mpytorch_lightning\u001b[39;00m\u001b[38;5;250m \u001b[39m\u001b[38;5;28;01mimport\u001b[39;00m Trainer\n\u001b[1;32m----> 3\u001b[0m \u001b[38;5;28;01mfrom\u001b[39;00m\u001b[38;5;250m \u001b[39m\u001b[38;5;21;01mbttr\u001b[39;00m\u001b[38;5;21;01m.\u001b[39;00m\u001b[38;5;21;01mdatamodule\u001b[39;00m\u001b[38;5;250m \u001b[39m\u001b[38;5;28;01mimport\u001b[39;00m CROHMEDatamodule\n\u001b[0;32m      4\u001b[0m \u001b[38;5;28;01mfrom\u001b[39;00m\u001b[38;5;250m \u001b[39m\u001b[38;5;21;01mbttr\u001b[39;00m\u001b[38;5;21;01m.\u001b[39;00m\u001b[38;5;21;01mlit_bttr\u001b[39;00m\u001b[38;5;250m \u001b[39m\u001b[38;5;28;01mimport\u001b[39;00m LitBTTR\n\u001b[0;32m      6\u001b[0m test_year \u001b[38;5;241m=\u001b[39m \u001b[38;5;124m\"\u001b[39m\u001b[38;5;124m2014\u001b[39m\u001b[38;5;124m\"\u001b[39m\n",
      "File \u001b[1;32md:\\sophomore year\\session 3\\stat302\\final project\\code\\BTTR\\bttr\\model\\bttr.py:7\u001b[0m\n\u001b[0;32m      4\u001b[0m \u001b[38;5;28;01mimport\u001b[39;00m\u001b[38;5;250m \u001b[39m\u001b[38;5;21;01mtorch\u001b[39;00m\n\u001b[0;32m      5\u001b[0m \u001b[38;5;28;01mfrom\u001b[39;00m\u001b[38;5;250m \u001b[39m\u001b[38;5;21;01mtorch\u001b[39;00m\u001b[38;5;250m \u001b[39m\u001b[38;5;28;01mimport\u001b[39;00m FloatTensor, LongTensor\n\u001b[1;32m----> 7\u001b[0m \u001b[38;5;28;01mfrom\u001b[39;00m\u001b[38;5;250m \u001b[39m\u001b[38;5;21;01mbttr\u001b[39;00m\u001b[38;5;21;01m.\u001b[39;00m\u001b[38;5;21;01mutils\u001b[39;00m\u001b[38;5;250m \u001b[39m\u001b[38;5;28;01mimport\u001b[39;00m Hypothesis\n\u001b[0;32m      8\u001b[0m \u001b[38;5;66;03m#from utils import Hypothesis\u001b[39;00m\n\u001b[0;32m     10\u001b[0m \u001b[38;5;28;01mfrom\u001b[39;00m\u001b[38;5;250m \u001b[39m\u001b[38;5;21;01m.\u001b[39;00m\u001b[38;5;21;01mdecoder\u001b[39;00m\u001b[38;5;250m \u001b[39m\u001b[38;5;28;01mimport\u001b[39;00m Decoder\n",
      "\u001b[1;31mModuleNotFoundError\u001b[0m: No module named 'bttr.utils'; 'bttr' is not a package"
     ]
    }
   ],
   "source": [
    "from pytorch_lightning import Trainer\n",
    "\n",
    "from bttr.datamodule import CROHMEDatamodule\n",
    "from bttr.lit_bttr import LitBTTR\n",
    "\n",
    "test_year = \"2014\"\n",
    "# ckp_path = \"lightning_logs/version_0/checkpoints/epoch=259-step=97759.ckpt\"\n",
    "ckp_path = \"D:/sophomore year/session 3/stat302/final project/code/BTTR/example/epoch=179-step=67680-val_ExpRate=0.5435.ckpt\"\n",
    "\n",
    "if __name__ == \"__main__\":\n",
    "    trainer = Trainer(logger=False, num_nodes=1, devices= 1)\n",
    "\n",
    "    dm = CROHMEDatamodule(test_year=test_year)\n",
    "\n",
    "    model = LitBTTR.load_from_checkpoint(ckp_path, map_location='cpu')\n",
    "    model.eval()\n",
    "\n",
    "    test_dataloader = dm.test_dataloader()\n",
    "\n",
    "    all_penultimate__outputs = []\n",
    "    with torch.no_grad():\n",
    "        for batch in test_dataloader:\n",
    "            inputs = batch[0]\n",
    "            penultimate__outputs = model.get_penultimate_layer_output(inputs)\n",
    "            all_penultimate__outputs.append(penultimate__outputs)\n",
    "    \n",
    "    all_penultimate__outputs = torch.cat(all_penultimate__outputs, axis=0)\n",
    "    print(all_penultimate__outputs.shape)"
   ]
  }
 ],
 "metadata": {
  "kernelspec": {
   "display_name": "bttr",
   "language": "python",
   "name": "python3"
  },
  "language_info": {
   "codemirror_mode": {
    "name": "ipython",
    "version": 3
   },
   "file_extension": ".py",
   "mimetype": "text/x-python",
   "name": "python",
   "nbconvert_exporter": "python",
   "pygments_lexer": "ipython3",
   "version": "3.10.16"
  }
 },
 "nbformat": 4,
 "nbformat_minor": 2
}
