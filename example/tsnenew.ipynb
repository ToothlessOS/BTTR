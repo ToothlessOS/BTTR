{
 "cells": [
  {
   "cell_type": "code",
   "execution_count": 36,
   "metadata": {},
   "outputs": [],
   "source": [
    "from bttr.lit_bttr import LitBTTR\n",
    "from torch import FloatTensor, LongTensor\n",
    "from PIL import Image\n",
    "from torchvision.transforms import ToTensor\n",
    "import torch"
   ]
  },
  {
   "cell_type": "code",
   "execution_count": 37,
   "metadata": {},
   "outputs": [
    {
     "data": {
      "image/jpeg": "[encoded data removed]",
      "image/png": "[encoded data removed]",
      "text/plain": [
       "<PIL.BmpImagePlugin.BmpImageFile image mode=L size=105x69>"
      ]
     },
     "execution_count": 37,
     "metadata": {},
     "output_type": "execute_result"
    }
   ],
   "source": [
    "ckpt1 = 'epoch=179-step=67680-val_ExpRate=0.5435.ckpt'\n",
    "img_path1 = '18_em_1.bmp'\n",
    "img_path2 = 'RIT_2014_312.bmp'\n",
    "checkpoint = torch.load(ckpt1, map_location='cpu')\n",
    "model1 = LitBTTR.load_from_checkpoint(ckpt1, map_location='cpu')\n",
    "img1 = Image.open(img_path1)\n",
    "img1"
   ]
  },
  {
   "cell_type": "code",
   "execution_count": 38,
   "metadata": {},
   "outputs": [
    {
     "data": {
      "image/jpeg": "[encoded data removed]",
      "image/png": "[encoded data removed]",
      "text/plain": [
       "<PIL.BmpImagePlugin.BmpImageFile image mode=L size=626x188>"
      ]
     },
     "execution_count": 38,
     "metadata": {},
     "output_type": "execute_result"
    }
   ],
   "source": [
    "img2 = Image.open('RIT_2014_312.bmp')\n",
    "img2"
   ]
  },
  {
   "cell_type": "code",
   "execution_count": 39,
   "metadata": {},
   "outputs": [
    {
     "name": "stdout",
     "output_type": "stream",
     "text": [
      "\\sqrt { 4 8 }\n",
      "\\sum _ { i = 1 } ^ { n } a ^ { 2 } = a ^ { 2 } a ^ { 2 } \\sum _ { i = 1 } ^ { 2 } 1 = m a ^ { 2 }\n"
     ]
    }
   ],
   "source": [
    "img1 = ToTensor()(img1)\n",
    "img1 = img1.to(\"cpu\")\n",
    "hyp1 = model1.beam_search(img1)\n",
    "img2 = ToTensor()(img2)\n",
    "img2 = img2.to(\"cpu\")\n",
    "hyp2 = model1.beam_search(img2)\n",
    "print(hyp1)\n",
    "print(hyp2)"
   ]
  },
  {
   "cell_type": "markdown",
   "metadata": {},
   "source": [
    "$\\sqrt { 4 8 }$\n",
    "\n",
    "$\\sum _ { i = 1 } ^ { n } a ^ { 2 } = a ^ { 2 } a ^ { 2 } \\sum _ { i = 1 } ^ { n } 1 = n a ^ { 2 }$"
   ]
  },
  {
   "cell_type": "code",
   "execution_count": 40,
   "metadata": {},
   "outputs": [
    {
     "name": "stdout",
     "output_type": "stream",
     "text": [
      "\\sqrt { 4 S }\n",
      "\\sum _ { i = 1 } a ^ { n } \\sum _ { i = 1 } ^ { 2 } 1 = n a ^ { z }\n"
     ]
    }
   ],
   "source": [
    "ckpt2 = 'epoch=153-step=57904-val_ExpRate=0.3269.ckpt'\n",
    "checkpoint = torch.load(ckpt2, map_location='cpu')\n",
    "model2 = LitBTTR.load_from_checkpoint(ckpt2, map_location='cpu')\n",
    "hyp3 = model2.beam_search(img1)\n",
    "hyp4 = model2.beam_search(img2)\n",
    "print(hyp3)\n",
    "print(hyp4)"
   ]
  },
  {
   "cell_type": "markdown",
   "metadata": {},
   "source": [
    "$r \\sqrt { 4 S }$\n",
    "\n",
    "$\\sum _ { i = 1 } ^ { 2 } a ^ { 2 } = 1 = 1 } ^ { 2 } \\sum _ { i = 1 } ^ { 2 } | = m a ^ { 2 }$"
   ]
  },
  {
   "cell_type": "code",
   "execution_count": 41,
   "metadata": {},
   "outputs": [
    {
     "name": "stdout",
     "output_type": "stream",
     "text": [
      "\\sqrt { 4 8 }\n",
      "\\sum _ { i = 1 } ^ { n } a ^ { 2 } = a ^ { n } } \\sum _ { i = 1 } ^ { n } 1 = n a ^ { 2 }\n"
     ]
    }
   ],
   "source": [
    "ckpt3 = 'epoch=273-step=103024-val_ExpRate=0.5172.ckpt'\n",
    "img_path = '18_em_1.bmp'\n",
    "checkpoint = torch.load(ckpt3, map_location='cpu')\n",
    "model3 = LitBTTR.load_from_checkpoint(ckpt3, map_location='cpu')\n",
    "hyp5 = model3.beam_search(img1)\n",
    "hyp6 = model3.beam_search(img2)\n",
    "print(hyp5)\n",
    "print(hyp6)"
   ]
  },
  {
   "cell_type": "markdown",
   "metadata": {},
   "source": [
    "$ \\sqrt { 4 8}$\n",
    "\n",
    "$ \\sum _ { i = 1 } ^ { n } a ^ { 2 } = a ^ { n } } \\sum _ { i = 1 } ^ { n } 1 = n a ^ { 2 }$"
   ]
  },
  {
   "cell_type": "code",
   "execution_count": null,
   "metadata": {},
   "outputs": [],
   "source": []
  }
 ],
 "metadata": {
  "kernelspec": {
   "display_name": "bttr",
   "language": "python",
   "name": "python3"
  },
  "language_info": {
   "codemirror_mode": {
    "name": "ipython",
    "version": 3
   },
   "file_extension": ".py",
   "mimetype": "text/x-python",
   "name": "python",
   "nbconvert_exporter": "python",
   "pygments_lexer": "ipython3",
   "version": "3.10.16"
  }
 },
 "nbformat": 4,
 "nbformat_minor": 2
}
