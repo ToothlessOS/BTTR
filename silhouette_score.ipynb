{
 "cells": [
  {
   "cell_type": "code",
   "execution_count": 1,
   "metadata": {},
   "outputs": [
    {
     "name": "stdout",
     "output_type": "stream",
     "text": [
      "数据集1的 Silhouette Score: 0.4297\n",
      "数据集2的 Silhouette Score: 0.4145\n",
      "数据集3的 Silhouette Score: 0.3324\n"
     ]
    },
    {
     "name": "stderr",
     "output_type": "stream",
     "text": [
      "d:\\AppGallery\\Downloads\\Anaconda\\envs\\bttr\\lib\\site-packages\\sklearn\\cluster\\_kmeans.py:1419: UserWarning: KMeans is known to have a memory leak on Windows with MKL, when there are less chunks than available threads. You can avoid it by setting the environment variable OMP_NUM_THREADS=1.\n",
      "  warnings.warn(\n",
      "d:\\AppGallery\\Downloads\\Anaconda\\envs\\bttr\\lib\\site-packages\\sklearn\\cluster\\_kmeans.py:1419: UserWarning: KMeans is known to have a memory leak on Windows with MKL, when there are less chunks than available threads. You can avoid it by setting the environment variable OMP_NUM_THREADS=1.\n",
      "  warnings.warn(\n",
      "d:\\AppGallery\\Downloads\\Anaconda\\envs\\bttr\\lib\\site-packages\\sklearn\\cluster\\_kmeans.py:1419: UserWarning: KMeans is known to have a memory leak on Windows with MKL, when there are less chunks than available threads. You can avoid it by setting the environment variable OMP_NUM_THREADS=1.\n",
      "  warnings.warn(\n"
     ]
    }
   ],
   "source": [
    "import numpy as np\n",
    "from sklearn.cluster import KMeans\n",
    "from sklearn.metrics import silhouette_score\n",
    "\n",
    "# 假设你有三张散点图，分别对应三组2D坐标数据：X1, X2, X3\n",
    "# 这里仅用随机数据做示例，实际中请替换为你的真实数据\n",
    "np.random.seed(42)\n",
    "X1 = np.random.rand(100, 2)  # 100个点，每个点2维坐标\n",
    "X2 = np.random.rand(120, 2)\n",
    "X3 = np.random.rand(80, 2)\n",
    "\n",
    "def compute_silhouette_score(X, n_clusters=3):\n",
    "    \"\"\"\n",
    "    对给定的数据 X (形状: [n_samples, n_features]) 进行 k-means 聚类\n",
    "    并计算 silhouette_score。\n",
    "    \n",
    "    参数:\n",
    "    - X: ndarray, shape = [n_samples, n_features]\n",
    "    - n_clusters: 聚类的类别数（可根据数据或先验知识调整）\n",
    "    \n",
    "    返回:\n",
    "    - score: 该数据在聚类下的轮廓系数\n",
    "    \"\"\"\n",
    "    kmeans = KMeans(n_clusters=n_clusters, random_state=42)\n",
    "    labels = kmeans.fit_predict(X)\n",
    "    score = silhouette_score(X, labels)\n",
    "    return score\n",
    "\n",
    "# 分别计算三组数据的 Silhouette Score\n",
    "for i, X in enumerate([X1, X2, X3], start=1):\n",
    "    score = compute_silhouette_score(X, n_clusters=3)\n",
    "    print(f\"数据集{i}的 Silhouette Score: {score:.4f}\")\n"
   ]
  }
 ],
 "metadata": {
  "kernelspec": {
   "display_name": "bttr",
   "language": "python",
   "name": "python3"
  },
  "language_info": {
   "codemirror_mode": {
    "name": "ipython",
    "version": 3
   },
   "file_extension": ".py",
   "mimetype": "text/x-python",
   "name": "python",
   "nbconvert_exporter": "python",
   "pygments_lexer": "ipython3",
   "version": "3.10.16"
  }
 },
 "nbformat": 4,
 "nbformat_minor": 2
}
